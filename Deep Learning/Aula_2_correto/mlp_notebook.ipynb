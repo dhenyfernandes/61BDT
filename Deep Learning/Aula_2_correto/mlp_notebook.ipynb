{
 "cells": [
  {
   "cell_type": "markdown",
   "metadata": {},
   "source": [
    "## 1. Loading dataset\n",
    "The dataset utilzied for this example can be downloaded from [http://deeplearning.net/data/mnist/mnist.pkl.gz](http://deeplearning.net/data/mnist/mnist.pkl.gz) and consist of a subset (20k examples) of the famous [MNIST dataset](https://en.wikipedia.org/wiki/MNIST_database). "
   ]
  },
  {
   "cell_type": "code",
   "execution_count": 1,
   "metadata": {},
   "outputs": [],
   "source": [
    "import gzip\n",
    "import pickle\n",
    "import numpy as np\n",
    "import matplotlib.pyplot as plt\n",
    "from sklearn.neural_network import MLPClassifier"
   ]
  },
  {
   "cell_type": "code",
   "execution_count": 2,
   "metadata": {},
   "outputs": [],
   "source": [
    "# As 'mnist.pkl.gz' was created in Python2, 'latin1' encoding is needed to loaded in Python3\n",
    "with gzip.open('mnist.pkl.gz', 'rb') as f:\n",
    "    train_set, valid_set, test_set = pickle.load(f, encoding='latin1')"
   ]
  },
  {
   "cell_type": "markdown",
   "metadata": {},
   "source": [
    "The dataset contains 70K examples divided as: 50k for training, 10k for validation and 10k for testing.\n",
    "Each example is a 28x28 pixel grayimages containing a digit. Some examples of the database:"
   ]
  },
  {
   "cell_type": "code",
   "execution_count": 3,
   "metadata": {},
   "outputs": [
    {
     "data": {
      "image/png": "[encoded data removed]",
      "text/plain": [
       "<Figure size 432x288 with 8 Axes>"
      ]
     },
     "metadata": {
      "needs_background": "light"
     },
     "output_type": "display_data"
    }
   ],
   "source": [
    "# Plot random examples\n",
    "examples = np.random.randint(10000, size=8)\n",
    "n_examples = len(examples)\n",
    "plt.figure()\n",
    "for ix_example in range(n_examples):\n",
    "    tmp = np.reshape(train_set[0][examples[ix_example],:], [28,28])\n",
    "    ax = plt.subplot(1,n_examples, ix_example + 1)\n",
    "    ax.set_yticklabels([])\n",
    "    ax.set_xticklabels([])\n",
    "    plt.title(str(train_set[1][examples[ix_example]]))\n",
    "    plt.imshow(tmp, cmap='gray')"
   ]
  },
  {
   "cell_type": "markdown",
   "metadata": {},
   "source": [
    "For sake of time, the MLP is trained with the validation set (10K examples); testing is performed with the test set (10K examples)"
   ]
  },
  {
   "cell_type": "code",
   "execution_count": 4,
   "metadata": {
    "scrolled": true
   },
   "outputs": [
    {
     "name": "stdout",
     "output_type": "stream",
     "text": [
      "Shape of training set: (50000, 784)\n",
      "Shape of test set: (10000, 784)\n"
     ]
    }
   ],
   "source": [
    "# Training data\n",
    "#train_X = valid_set[0]\n",
    "#train_y = valid_set[1]  \n",
    "train_X = train_set[0]\n",
    "train_y = train_set[1]\n",
    "print('Shape of training set: ' + str(train_X.shape))\n",
    "\n",
    "# change y [1D] to Y [2D] sparse array coding class\n",
    "n_examples = len(train_y)\n",
    "labels = np.unique(train_y)\n",
    "train_Y = np.zeros((n_examples, len(labels)))\n",
    "for ix_label in range(len(labels)):\n",
    "    # Find examples with with a Label = lables(ix_label)\n",
    "    ix_tmp = np.where(train_y == labels[ix_label])[0]\n",
    "    train_Y[ix_tmp, ix_label] = 1\n",
    "\n",
    "\n",
    "# Test data\n",
    "test_X = test_set[0]\n",
    "test_y = test_set[1] \n",
    "print('Shape of test set: ' + str(test_X.shape))\n",
    "\n",
    "# change y [1D] to Y [2D] sparse array coding class\n",
    "n_examples = len(test_y)\n",
    "labels = np.unique(test_y)\n",
    "test_Y = np.zeros((n_examples, len(labels)))\n",
    "for ix_label in range(len(labels)):\n",
    "    # Find examples with with a Label = lables(ix_label)\n",
    "    ix_tmp = np.where(test_y == labels[ix_label])[0]\n",
    "    test_Y[ix_tmp, ix_label] = 1\n"
   ]
  },
  {
   "cell_type": "markdown",
   "metadata": {},
   "source": [
    "## 2. Parameters of MLP\n",
    " * __Number of layers__ : 4 (input, hidden1, hidden2 output)\n",
    " * __Elements in layers__ : [784, 25, 10, 10]   \n",
    " * __Activation function__ : Rectified Linear function\n",
    " * __Regularization parameter__ : 1 "
   ]
  },
  {
   "cell_type": "markdown",
   "metadata": {},
   "source": [
    "## 3. Creating MLP object "
   ]
  },
  {
   "cell_type": "code",
   "execution_count": 5,
   "metadata": {},
   "outputs": [
    {
     "data": {
      "text/plain": [
       "MLPClassifier(hidden_layer_sizes=(784, 25, 10, 10), random_state=42)"
      ]
     },
     "execution_count": 5,
     "metadata": {},
     "output_type": "execute_result"
    }
   ],
   "source": [
    "# Creating the MLP object initialize the weights\n",
    "mlp = MLPClassifier(hidden_layer_sizes=(784, 25, 10, 10), activation='relu', random_state=42)\n",
    "mlp"
   ]
  },
  {
   "cell_type": "markdown",
   "metadata": {},
   "source": [
    "## 4. Training MLP object"
   ]
  },
  {
   "cell_type": "code",
   "execution_count": 6,
   "metadata": {},
   "outputs": [
    {
     "data": {
      "text/plain": [
       "MLPClassifier(hidden_layer_sizes=(784, 25, 10, 10), random_state=42)"
      ]
     },
     "execution_count": 6,
     "metadata": {},
     "output_type": "execute_result"
    }
   ],
   "source": [
    "mlp.fit(train_X, train_Y)"
   ]
  },
  {
   "cell_type": "markdown",
   "metadata": {},
   "source": [
    "## 5. Testing MLP"
   ]
  },
  {
   "cell_type": "code",
   "execution_count": 8,
   "metadata": {},
   "outputs": [],
   "source": [
    "y_pred = mlp.predict(test_X)"
   ]
  },
  {
   "cell_type": "code",
   "execution_count": 9,
   "metadata": {},
   "outputs": [
    {
     "name": "stdout",
     "output_type": "stream",
     "text": [
      "              precision    recall  f1-score   support\n",
      "\n",
      "           0       0.84      0.99      0.91       980\n",
      "           1       0.99      0.98      0.99      1135\n",
      "           2       0.98      0.97      0.97      1032\n",
      "           3       0.99      0.98      0.98      1010\n",
      "           4       0.98      0.97      0.97       982\n",
      "           5       0.98      0.95      0.96       892\n",
      "           6       0.99      0.96      0.98       958\n",
      "           7       0.98      0.96      0.97      1028\n",
      "           8       0.98      0.94      0.96       974\n",
      "           9       0.98      0.96      0.97      1009\n",
      "\n",
      "    accuracy                           0.97     10000\n",
      "   macro avg       0.97      0.97      0.97     10000\n",
      "weighted avg       0.97      0.97      0.97     10000\n",
      "\n"
     ]
    }
   ],
   "source": [
    "from sklearn.metrics import classification_report\n",
    "print(classification_report(test_y, np.argmax(y_pred, axis=1)))\n",
    "#support é o número de ocorrencias reais da classe no conjunto de dados especificado"
   ]
  },
  {
   "cell_type": "code",
   "execution_count": null,
   "metadata": {},
   "outputs": [],
   "source": []
  }
 ],
 "metadata": {
  "kernelspec": {
   "display_name": "Python 3 (ipykernel)",
   "language": "python",
   "name": "python3"
  },
  "language_info": {
   "codemirror_mode": {
    "name": "ipython",
    "version": 3
   },
   "file_extension": ".py",
   "mimetype": "text/x-python",
   "name": "python",
   "nbconvert_exporter": "python",
   "pygments_lexer": "ipython3",
   "version": "3.9.12"
  }
 },
 "nbformat": 4,
 "nbformat_minor": 4
}
